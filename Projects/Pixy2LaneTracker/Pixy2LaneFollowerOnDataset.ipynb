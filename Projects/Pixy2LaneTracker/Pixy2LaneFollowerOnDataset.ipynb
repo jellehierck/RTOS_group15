{
 "cells": [
  {
   "cell_type": "code",
   "execution_count": 68,
   "metadata": {},
   "outputs": [],
   "source": [
    "import cv2\n",
    "import pickle\n",
    "import pixy2\n",
    "import numpy as np\n",
    "import time\n",
    "import math\n",
    "import IPython\n",
    "from recordclass import recordclass\n",
    "from matplotlib.pyplot import imshow as show\n",
    "from scipy.signal import find_peaks\n",
    "from sklearn.cluster import KMeans"
   ]
  },
  {
   "cell_type": "code",
   "execution_count": 147,
   "metadata": {},
   "outputs": [],
   "source": [
    "with open('dataset/pixy2_vector_dataset.obj', 'rb') as f:\n",
    "    data = pickle.load(f)\n",
    "    width, height = data[0]\n",
    "    frames = data[1:]\n",
    "    fps = 60"
   ]
  },
  {
   "cell_type": "code",
   "execution_count": 149,
   "metadata": {},
   "outputs": [],
   "source": [
    "def imshow(img):\n",
    "    _, ret = cv2.imencode('.jpg', img)\n",
    "    i = IPython.display.Image(data=ret)\n",
    "    IPython.display.display(i)"
   ]
  },
  {
   "cell_type": "code",
   "execution_count": 150,
   "metadata": {},
   "outputs": [],
   "source": [
    "Pixy2FrameIndex = recordclass('Pixy2FrameIndexes', 'index age last_active')\n",
    "\n",
    "def create_image_from_vectors(frame, height, width, previous_frame_indexes, frame_index, fps, min_age):\n",
    "    img = np.zeros([height, width], dtype=np.uint8)\n",
    "    new_indexes = []\n",
    "    current_time = frame_index * 1 / fps # measured in seconds\n",
    "    max_inactive_time = 3.0 # measured in seconds\n",
    "    \n",
    "    # for each detected vector\n",
    "    for vect in frame:\n",
    "        \n",
    "        current_index = vect.index\n",
    "        \n",
    "        # for every old vector that was once detected\n",
    "        found_index = False\n",
    "        for i in range(len(previous_frame_indexes)):\n",
    "            previous_index, age, _ = previous_frame_indexes[i]\n",
    "            # check if the age of an old vector is greater than the accepted minimum\n",
    "            if age >= min_age:\n",
    "                # if found an old vector that matches the current one\n",
    "                if current_index == previous_index:\n",
    "                    # draw it and update it's last active time\n",
    "                    cv2.line(img, (vect.x0, vect.y0), (vect.x1, vect.y1), color=255, thickness=1)\n",
    "                    previous_frame_indexes[i].last_active = current_time\n",
    "                    found_index = True\n",
    "        \n",
    "        # if the new detected vector isn't in the list of old vectors\n",
    "        if not found_index:\n",
    "            # then add it to that list\n",
    "            new_indexes.append(Pixy2FrameIndex(index=current_index, age=1, last_active=current_time))\n",
    "    \n",
    "    # remove old vectors that haven't been active for a while\n",
    "    # part of the cleanup because there can only be 256 vectors tracked\n",
    "    aux = []\n",
    "    for index in previous_frame_indexes:\n",
    "        index.age += 1\n",
    "        if index.last_active + max_inactive_time >= current_time:\n",
    "            aux.append(index)\n",
    "    previous_frame_indexes = aux\n",
    "    \n",
    "    # add old indexes to the new indexes\n",
    "    new_indexes += previous_frame_indexes\n",
    "        \n",
    "    return img, new_indexes\n",
    " \n",
    "def create_video_from_vectors(output, frames, height, width, fps, min_age):\n",
    "    fourcc = cv2.VideoWriter_fourcc(*'MP42')\n",
    "    video = cv2.VideoWriter(output, fourcc, float(fps), (width, height), 0)\n",
    "    images = []\n",
    "    indexes = []\n",
    "    \n",
    "    for frame_index, frame in enumerate(frames):\n",
    "        img, indexes = create_image_from_vectors(frame, height, width, indexes, frame_index, fps, min_age)\n",
    "        images.append(img)\n",
    "        video.write(img)\n",
    "        \n",
    "    video.release()\n",
    "    \n",
    "    return images, indexes"
   ]
  },
  {
   "cell_type": "code",
   "execution_count": 151,
   "metadata": {},
   "outputs": [],
   "source": [
    "min_age_A = 1\n",
    "min_age_B = 3\n",
    "imgs, indexes = create_video_from_vectors('videos/pixy2_lane_follower_age{}.avi'.format(min_age_A), frames, height, width, fps, min_age_A)\n",
    "imgs, indexes = create_video_from_vectors('videos/pixy2_lane_follower_age{}.avi'.format(min_age_B), frames, height, width, fps, min_age_B)"
   ]
  },
  {
   "cell_type": "code",
   "execution_count": 6,
   "metadata": {},
   "outputs": [
    {
     "data": {
      "image/png": "[encoded data removed]",
      "text/plain": [
       "<IPython.core.display.Image object>"
      ]
     },
     "metadata": {},
     "output_type": "display_data"
    }
   ],
   "source": [
    "imshow(imgs[20])"
   ]
  },
  {
   "cell_type": "code",
   "execution_count": 7,
   "metadata": {},
   "outputs": [
    {
     "data": {
      "text/plain": [
       "<matplotlib.image.AxesImage at 0x11b0990f0>"
      ]
     },
     "execution_count": 7,
     "metadata": {},
     "output_type": "execute_result"
    },
    {
     "data": {
      "image/png": "[encoded data removed]",
      "text/plain": [
       "<Figure size 432x288 with 1 Axes>"
      ]
     },
     "metadata": {
      "needs_background": "light"
     },
     "output_type": "display_data"
    }
   ],
   "source": [
    "show(imgs[20])"
   ]
  },
  {
   "cell_type": "code",
   "execution_count": 145,
   "metadata": {},
   "outputs": [],
   "source": [
    "def calc_lanes(peaks, warped):\n",
    "    no_peaks = len(peaks)\n",
    "    line_threshold = warped.shape[0] // 2\n",
    "    lanes = []\n",
    "    \n",
    "    # peaks is an ordered list\n",
    "    if no_peaks > 0:\n",
    "        lines = cv2.HoughLinesP(warped, rho=2, theta=4*np.pi/180, threshold=200, minLineLength=50, maxLineGap=100)\n",
    "        if lines is None:\n",
    "            return None\n",
    "        if len(lines[:,0,:]) >= no_peaks:\n",
    "            kmeans = KMeans(n_clusters=no_peaks)\n",
    "            kmeans.fit(lines[:,0,:])\n",
    "            vectors = kmeans.cluster_centers_\n",
    "            filtered = []\n",
    "            for vector in vectors:\n",
    "                y0 = vector[1]\n",
    "                y1 = vector[3]\n",
    "                if not (y0 <= line_threshold and y1 <= line_threshold):\n",
    "                    filtered.append(vector)\n",
    "            vectors = filtered\n",
    "            return vectors\n",
    "        else:\n",
    "            return None\n",
    "    else:\n",
    "        return None\n",
    "\n",
    "def detect_lane_from_image(img, height, width):\n",
    "    # region of interest\n",
    "    a = (0, height-1)\n",
    "    b = (25, 30)\n",
    "    c = (53, 30)\n",
    "    d = (width-1, height-1)\n",
    "    pts1 = np.float32([a, b, c, d])\n",
    "    height = width = 500\n",
    "    pts2 = np.float32([[0, height-1], [0, 0], [width-1, 0], [width-1, height-1]])\n",
    "    \n",
    "    # draw the region of interest\n",
    "    roi = np.array(img, copy=True)\n",
    "    cv2.line(roi, a, b, color=128, thickness=1)\n",
    "    cv2.line(roi, b, c, color=128, thickness=1)\n",
    "    cv2.line(roi, c, d, color=128, thickness=1)\n",
    "    cv2.line(roi, d, a, color=128, thickness=1)\n",
    "    \n",
    "    # get perspective and warp the image\n",
    "    transform = cv2.getPerspectiveTransform(pts1, pts2)\n",
    "    warped = cv2.warpPerspective(img, transform, (width, height))\n",
    "    \n",
    "    # along the columns\n",
    "    hist = warped.sum(axis = 0)\n",
    "    \n",
    "    # find peaks in the histogram\n",
    "    peaks, _ = find_peaks(hist, prominence=1000, height=2000, distance=125)\n",
    "    \n",
    "    lanes = calc_lanes(peaks, warped)\n",
    "    approximate_lanes = cv2.cvtColor(warped, cv2.COLOR_GRAY2RGB)\n",
    "    if lanes is not None:\n",
    "        for lane in lanes:\n",
    "            lane = tuple(map(lambda x: int(x), lane))\n",
    "            cv2.line(approximate_lanes, tuple(lane[0:2]), tuple(lane[2:4]), color=(0, 255, 0), thickness=2)\n",
    "    \n",
    "    return warped, hist, roi, peaks, approximate_lanes, lanes\n",
    "\n",
    "def get_angle(p0, p1, p2):\n",
    "    ''' \n",
    "    compute angle (in degrees) for p0p1p2 corner\n",
    "    \n",
    "    Inputs:\n",
    "        p0,p1,p2 - points in the form of [x,y]\n",
    "    '''\n",
    "    if p2 is None:\n",
    "        p2 = p1 + np.array([1, 0])\n",
    "    v0 = np.array(p0) - np.array(p1)\n",
    "    v1 = np.array(p2) - np.array(p1)\n",
    "\n",
    "    angle = np.math.atan2(np.linalg.det([v0,v1]),np.dot(v0,v1))\n",
    "    return np.degrees(angle)\n",
    "\n",
    "def distance(p1, p2):\n",
    "    return math.sqrt((p1[0]-p2[0]) ** 2 + (p1[1]-p2[1]) ** 2)\n",
    "\n",
    "def calc_direction_from_lanes(lanes):\n",
    "    try:\n",
    "        v = np.array(lanes).sum(axis=0) / len(lanes)\n",
    "        p0 = np.array(v[0:2])\n",
    "        p1 = np.array(v[2:4])\n",
    "        p2 = np.array([v[2]+10, v[3]])\n",
    "        # do some black magic here\n",
    "        angle = (int(get_angle(p0, p1, p2)) + 90) * -1\n",
    "        if angle < 0:\n",
    "            angle += 180\n",
    "        magnitude = int(distance(v[0:2], v[2:4]))\n",
    "    except:\n",
    "        print(v, lanes)\n",
    "        raise\n",
    "    \n",
    "    return angle, magnitude\n",
    "\n",
    "def window_based_interpolation(magnitude, height, width):\n",
    "    longest_line = math.sqrt(height ** 2 + width ** 2)\n",
    "    percent_magnitude = int(100 * magnitude / longest_line)\n",
    "    \n",
    "    return percent_magnitude\n",
    "\n",
    "def create_video_from_warps(outputs, imgs, height, width, fps):\n",
    "    fourcc = cv2.VideoWriter_fourcc(*'MP42')\n",
    "    video_size = 500\n",
    "    videos = [\n",
    "        cv2.VideoWriter(outputs[0], fourcc, float(fps), (video_size, video_size), 0),\n",
    "        cv2.VideoWriter(outputs[1], fourcc, float(fps), (video_size, video_size)),\n",
    "        cv2.VideoWriter(outputs[2], fourcc, float(fps), (video_size, video_size))\n",
    "    ]\n",
    "    colors = [\n",
    "        255,\n",
    "        (255, 255, 255),\n",
    "        (255, 255, 255)\n",
    "    ]\n",
    "    images = []\n",
    "    \n",
    "    for index, img in enumerate(imgs):\n",
    "        warped, hist, roi, peaks, approximate, lanes = detect_lane_from_image(img, height, width)\n",
    "        \n",
    "        angle = magnitude = 'n/a'\n",
    "        if lanes is not None and len(lanes) > 0:\n",
    "            angle, magnitude = calc_direction_from_lanes(lanes)\n",
    "            magnitude = window_based_interpolation(magnitude, video_size, video_size)\n",
    "        font = cv2.FONT_HERSHEY_SIMPLEX\n",
    "        img_rgb = cv2.cvtColor(img, cv2.COLOR_GRAY2RGB)\n",
    "        img_rgb = cv2.resize(img_rgb, dsize=(video_size, video_size))\n",
    "\n",
    "        for idx, frame in enumerate((warped, approximate, img_rgb)):\n",
    "            cv2.putText(frame, 'Frame {}'.format(index), (10,50), font, 1, colors[idx], 2, cv2.LINE_AA)\n",
    "            cv2.putText(frame, 'Angle {}'.format(angle), (300,50), font, 1, colors[idx], 2, cv2.LINE_AA)\n",
    "            cv2.putText(frame, 'Mag {}'.format(magnitude), (300,95), font, 1, colors[idx], 2, cv2.LINE_AA)\n",
    "            videos[idx].write(frame)\n",
    "    \n",
    "    for video in videos:\n",
    "        video.release()"
   ]
  },
  {
   "cell_type": "code",
   "execution_count": 140,
   "metadata": {},
   "outputs": [],
   "source": [
    "create_video_from_warps(\n",
    "    [\n",
    "        'videos/warped_lanes.avi', \n",
    "        'videos/approximatated_lanes.avi',\n",
    "        'videos/original_with_overlays.avi'\n",
    "    ], imgs, height, width, fps)"
   ]
  },
  {
   "cell_type": "code",
   "execution_count": 143,
   "metadata": {},
   "outputs": [
    {
     "data": {
      "text/plain": [
       "<matplotlib.image.AxesImage at 0x11e6835f8>"
      ]
     },
     "execution_count": 143,
     "metadata": {},
     "output_type": "execute_result"
    },
    {
     "data": {
      "image/png": "[encoded data removed]",
      "text/plain": [
       "<Figure size 432x288 with 1 Axes>"
      ]
     },
     "metadata": {
      "needs_background": "light"
     },
     "output_type": "display_data"
    }
   ],
   "source": [
    "# 3300 for a good one\n",
    "# 3978 for a bad one\n",
    "warped, hist, roi, peaks, approx, lanes = detect_lane_from_image(imgs[20], height, width)\n",
    "show(warped)"
   ]
  },
  {
   "cell_type": "code",
   "execution_count": 692,
   "metadata": {},
   "outputs": [
    {
     "data": {
      "text/plain": [
       "[<matplotlib.lines.Line2D at 0x134e1ed68>]"
      ]
     },
     "execution_count": 692,
     "metadata": {},
     "output_type": "execute_result"
    },
    {
     "data": {
      "image/png": "[encoded data removed]",
      "text/plain": [
       "<Figure size 432x288 with 1 Axes>"
      ]
     },
     "metadata": {
      "needs_background": "light"
     },
     "output_type": "display_data"
    }
   ],
   "source": [
    "plt(hist)"
   ]
  },
  {
   "cell_type": "code",
   "execution_count": 701,
   "metadata": {},
   "outputs": [
    {
     "data": {
      "image/png": "[encoded data removed]",
      "text/plain": [
       "<IPython.core.display.Image object>"
      ]
     },
     "metadata": {},
     "output_type": "display_data"
    }
   ],
   "source": [
    "imshow(roi)"
   ]
  },
  {
   "cell_type": "code",
   "execution_count": 41,
   "metadata": {},
   "outputs": [
    {
     "data": {
      "text/plain": [
       "(array([ 47, 332]),\n",
       " {'peak_heights': array([13846., 12448.]),\n",
       "  'prominences': array([13846., 12448.]),\n",
       "  'left_bases': array([ 18, 144]),\n",
       "  'right_bases': array([ 81, 356])})"
      ]
     },
     "execution_count": 41,
     "metadata": {},
     "output_type": "execute_result"
    }
   ],
   "source": [
    "find_peaks(hist, prominence=1000, height=1000, distance=125)"
   ]
  },
  {
   "cell_type": "code",
   "execution_count": 40,
   "metadata": {},
   "outputs": [
    {
     "data": {
      "text/plain": [
       "array([ 47, 332])"
      ]
     },
     "execution_count": 40,
     "metadata": {},
     "output_type": "execute_result"
    }
   ],
   "source": [
    "peaks"
   ]
  },
  {
   "cell_type": "code",
   "execution_count": 39,
   "metadata": {},
   "outputs": [
    {
     "data": {
      "text/plain": [
       "<matplotlib.image.AxesImage at 0x11de6f4a8>"
      ]
     },
     "execution_count": 39,
     "metadata": {},
     "output_type": "execute_result"
    },
    {
     "data": {
      "image/png": "[encoded data removed]",
      "text/plain": [
       "<Figure size 432x288 with 1 Axes>"
      ]
     },
     "metadata": {
      "needs_background": "light"
     },
     "output_type": "display_data"
    }
   ],
   "source": [
    "show(warped)"
   ]
  },
  {
   "cell_type": "code",
   "execution_count": 36,
   "metadata": {},
   "outputs": [
    {
     "name": "stdout",
     "output_type": "stream",
     "text": [
      "19 [[[155 470 352  27]]\n",
      "\n",
      " [[152 470 354  15]]\n",
      "\n",
      " [[150 467 355   6]]\n",
      "\n",
      " [[148 458 351   2]]\n",
      "\n",
      " [[149 461 353   2]]\n",
      "\n",
      " [[158 470 351  35]]\n",
      "\n",
      " [[146 455 348   2]]\n",
      "\n",
      " [[161 470 349  47]]\n",
      "\n",
      " [[145 452 345   2]]\n",
      "\n",
      " [[150 466 355   4]]\n",
      "\n",
      " [[164 470 348  55]]\n",
      "\n",
      " [[147 458 350   2]]\n",
      "\n",
      " [[149 437 343   2]]\n",
      "\n",
      " [[153 470 353  21]]\n",
      "\n",
      " [[186 422 348  58]]\n",
      "\n",
      " [[153 424 341   2]]\n",
      "\n",
      " [[156 470 352  30]]\n",
      "\n",
      " [[151 469 354  12]]\n",
      "\n",
      " [[188 422 347  65]]]\n"
     ]
    }
   ],
   "source": [
    "lines = cv2.HoughLinesP(warped, rho=2, theta=4*np.pi/180, threshold=500, minLineLength=150, maxLineGap=100)\n",
    "print(len(lines), lines[0:20])"
   ]
  },
  {
   "cell_type": "code",
   "execution_count": 37,
   "metadata": {},
   "outputs": [
    {
     "data": {
      "text/plain": [
       "array([[152.17647059, 461.        , 350.23529412,  15.64705882],\n",
       "       [187.        , 422.        , 347.5       ,  61.5       ]])"
      ]
     },
     "execution_count": 37,
     "metadata": {},
     "output_type": "execute_result"
    }
   ],
   "source": [
    "kmeans = KMeans(n_clusters=2)\n",
    "kmeans.fit(lines[:,0,:])\n",
    "kmeans.cluster_centers_"
   ]
  },
  {
   "cell_type": "code",
   "execution_count": 47,
   "metadata": {},
   "outputs": [
    {
     "data": {
      "image/png": "[encoded data removed]",
      "text/plain": [
       "<IPython.core.display.Image object>"
      ]
     },
     "metadata": {},
     "output_type": "display_data"
    }
   ],
   "source": [
    "imshow(approx)"
   ]
  },
  {
   "cell_type": "code",
   "execution_count": 60,
   "metadata": {},
   "outputs": [
    {
     "data": {
      "text/plain": [
       "array([170.37931034, 425.44827586, 347.4137931 ,  27.4137931 ])"
      ]
     },
     "execution_count": 60,
     "metadata": {},
     "output_type": "execute_result"
    }
   ],
   "source": [
    "np.array(lanes).sum(axis=0) / len(lanes)"
   ]
  },
  {
   "cell_type": "code",
   "execution_count": null,
   "metadata": {},
   "outputs": [],
   "source": []
  }
 ],
 "metadata": {
  "kernelspec": {
   "display_name": "Python 3",
   "language": "python",
   "name": "python3"
  },
  "language_info": {
   "codemirror_mode": {
    "name": "ipython",
    "version": 3
   },
   "file_extension": ".py",
   "mimetype": "text/x-python",
   "name": "python",
   "nbconvert_exporter": "python",
   "pygments_lexer": "ipython3",
   "version": "3.7.3"
  }
 },
 "nbformat": 4,
 "nbformat_minor": 2
}
