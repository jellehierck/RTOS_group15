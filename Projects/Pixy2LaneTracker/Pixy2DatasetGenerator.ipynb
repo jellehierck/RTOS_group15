{
 "cells": [
  {
   "cell_type": "code",
   "execution_count": 2,
   "metadata": {},
   "outputs": [],
   "source": [
    "import pixy2\n",
    "from threading import Thread, Event\n",
    "from time import sleep, time\n",
    "import pickle"
   ]
  },
  {
   "cell_type": "code",
   "execution_count": 6,
   "metadata": {},
   "outputs": [],
   "source": [
    "pixy = pixy2.Pixy2I2C(address=0x54)\n",
    "frames = []"
   ]
  },
  {
   "cell_type": "code",
   "execution_count": 1,
   "metadata": {},
   "outputs": [],
   "source": [
    "def collect_until_stopped(event):\n",
    "    pixy.set_mode(pixy2.LINE_MODE_WHITE_LINE)\n",
    "    \n",
    "    pixy.set_lamp(1)\n",
    "    fps = pixy.get_fps()\n",
    "    window = 1.0 / fps\n",
    "    res = pixy.get_resolution()\n",
    "    if res is None:\n",
    "        print('failed getting the resolution')\n",
    "        return\n",
    "    frames = [[res[0], res[1]]]\n",
    "    frames.append([fps])\n",
    "    \n",
    "    while not event.is_set():\n",
    "        features = pixy.get_main_features(features=1)\n",
    "        if features is not None:     \n",
    "            if 'vectors' in features:\n",
    "                frames.append(features['vectors'])\n",
    "            else:\n",
    "                frames.append([])\n",
    "        sleep(window)\n",
    "        \n",
    "    pixy.set_lamp(0)\n",
    "    \n",
    "    with open('dataset/pixy2_vector_dataset.obj', 'wb') as fp:\n",
    "        pickle.dump(frames, fp)"
   ]
  },
  {
   "cell_type": "code",
   "execution_count": 12,
   "metadata": {},
   "outputs": [],
   "source": [
    "stop_event = Event()\n",
    "thread = Thread(target=collect_until_stopped, args=(stop_event,))\n",
    "thread.start()"
   ]
  },
  {
   "cell_type": "code",
   "execution_count": 13,
   "metadata": {},
   "outputs": [],
   "source": [
    "stop_event.set()"
   ]
  },
  {
   "cell_type": "code",
   "execution_count": null,
   "metadata": {},
   "outputs": [],
   "source": []
  }
 ],
 "metadata": {
  "kernelspec": {
   "display_name": "Python 3",
   "language": "python",
   "name": "python3"
  },
  "language_info": {
   "codemirror_mode": {
    "name": "ipython",
    "version": 3
   },
   "file_extension": ".py",
   "mimetype": "text/x-python",
   "name": "python",
   "nbconvert_exporter": "python",
   "pygments_lexer": "ipython3",
   "version": "3.7.3"
  }
 },
 "nbformat": 4,
 "nbformat_minor": 2
}
